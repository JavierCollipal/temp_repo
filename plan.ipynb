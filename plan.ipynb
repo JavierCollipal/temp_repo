{
 "cells": [
  {
   "cell_type": "markdown",
   "metadata": {
    "notebookRunGroups": {
     "groupValue": "1"
    }
   },
   "source": [
    "### Arquitectura\n",
    "MongoDb atlas free tier.\n",
    "Django Docker Image."
   ]
  },
  {
   "cell_type": "markdown",
   "metadata": {},
   "source": [
    "### Modelos\n",
    "Transacción\n",
    "```json\n",
    "{\n",
    "\"id\": \"uuid4\",\n",
    "\"description\": \"PYU *UberEats\",\n",
    "\"amount\": -300.00,\n",
    "\"date\": \"2023-12-01\",\n",
    "}\n",
    "Categoría\n",
    "{\n",
    "\"id\":\"uuid4\",\n",
    "\"name\": \"Restaurantes\",\n",
    "“type”: “expense”\n",
    "}\n",
    "Comercio\n",
    "{\n",
    "\"id\":\"uuid4\",\n",
    "\"merchant_name\": \"Uber Eats\",\n",
    "\"merchant_logo\" : \"http://...\",\n",
    "\"category\": \"category_id\"\n",
    "}\n",
    "Keyword\n",
    "{\n",
    "\"id\":\"uuid4\",\n",
    "\"keyword\": \"uber eats\",\n",
    "\"merchant_id\": \"merchant_id\"\n",
    "}\n",
    "### Prompt\n",
    "Generate an set of MongoDb models using 'target mongoDb driver'/'mongoEngine' for a Django Rest APi based on above JSONs\n"
   ]
  },
  {
   "cell_type": "markdown",
   "metadata": {},
   "source": [
    "### arquitectura django\n",
    "N-layers.\n",
    "MongoEngine ODM.\n",
    "Django Rest Framework."
   ]
  },
  {
   "cell_type": "markdown",
   "metadata": {},
   "source": [
    "### Testing:\n",
    "Unit testing applied on Model and Serializer, Integration testing applied on every View."
   ]
  }
 ],
 "metadata": {
  "language_info": {
   "name": "python"
  }
 },
 "nbformat": 4,
 "nbformat_minor": 2
}
