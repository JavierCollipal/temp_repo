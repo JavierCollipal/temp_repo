{
 "cells": [
  {
   "cell_type": "markdown",
   "metadata": {
    "notebookRunGroups": {
     "groupValue": "1"
    }
   },
   "source": [
    "### Architecture \n",
    "MongoDb atlas free tier.\n",
    "Django Docker Image.\n",
    "Redis if needed, otherwise stick to keyword global cache."
   ]
  },
  {
   "cell_type": "markdown",
   "metadata": {},
   "source": [
    "### Models\n",
    "Transacción\n",
    "```json\n",
    "{\n",
    "\"id\": \"uuid4\",\n",
    "\"description\": \"PYU *UberEats\",\n",
    "\"amount\": -300.00,\n",
    "\"date\": \"2023-12-01\",\n",
    "}\n",
    "Categoría\n",
    "{\n",
    "\"id\":\"uuid4\",\n",
    "\"name\": \"Restaurantes\",\n",
    "“type”: “expense”\n",
    "}\n",
    "Comercio\n",
    "{\n",
    "\"id\":\"uuid4\",\n",
    "\"merchant_name\": \"Uber Eats\",\n",
    "\"merchant_logo\" : \"http://...\",\n",
    "\"category\": \"category_id\"\n",
    "}\n",
    "Keyword\n",
    "{\n",
    "\"id\":\"uuid4\",\n",
    "\"keyword\": \"uber eats\",\n",
    "\"merchant_id\": \"merchant_id\"\n",
    "}\n",
    "### Prompt\n",
    "Generate an set of MongoDb models using 'target mongoDb driver'/'mongoEngine' for a Django Rest APi based on above JSONs\n"
   ]
  },
  {
   "cell_type": "markdown",
   "metadata": {},
   "source": [
    "### arquitectura django\n",
    "N-layers.\n",
    "MongoEngine ODM.\n",
    "Django Rest Framework."
   ]
  },
  {
   "cell_type": "markdown",
   "metadata": {},
   "source": [
    "### Testing:\n",
    "Unit testing applied on Model and Serializer, Integration testing applied on every View."
   ]
  },
  {
   "cell_type": "markdown",
   "metadata": {},
   "source": [
    "### Enrichment planning:\n",
    "Ok, at this point the raw requirement of an insterting many taking less than 8 seconds worked for an plain transaction operation.\n",
    "#\n",
    "Now, I need to insert the same amount of data, but with an enrichment operation and it should take the same or less than 8 seconds. After testing the others models we can concentrate on the enrichment operation."
   ]
  },
  {
   "cell_type": "markdown",
   "metadata": {},
   "source": [
    "### Pendings:x\n",
    "Description key extraction.\n",
    "Null return on enrchiment, candidate for result pattern on service.\n",
    "Enrichment metrics on operation result.\n",
    "Readme instructions: 50 percent. Category and commerce test fix. Initial data load with commands\n",
    "\n"
   ]
  },
  {
   "cell_type": "markdown",
   "metadata": {},
   "source": [
    "Commands for initial data load, done but how that exisiting data works in the integration test now?, ore we assume to gather the transaction list of ids."
   ]
  },
  {
   "cell_type": "markdown",
   "metadata": {},
   "source": [
    "Enrichment planning 2:\n",
    "\n",
    "Based on the provided data, we only need to generate transactions with the according description, now we need to enable the full text search on keyword. This is the core of our transaction enrichment."
   ]
  },
  {
   "cell_type": "markdown",
   "metadata": {},
   "source": [
    "A second enrichment layer can be querying the description against the categories.\n",
    "\n",
    "Terms like \"supermerc\" \"restaurant\" but mongo text search didn't find any result using nlpk to remove stop words. "
   ]
  },
  {
   "cell_type": "markdown",
   "metadata": {},
   "source": []
  }
 ],
 "metadata": {
  "language_info": {
   "name": "python"
  }
 },
 "nbformat": 4,
 "nbformat_minor": 2
}
